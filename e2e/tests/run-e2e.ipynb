{
 "cells": [
  {
   "cell_type": "code",
   "execution_count": null,
   "metadata": {},
   "outputs": [],
   "source": [
    "# Default to some fast values\n",
    "e2e = {\"parallel\": 25, \"focus\": \"Secrets should be consumable via the\"}\n",
    "state = {\"e2e\": e2e}"
   ]
  },
  {
   "cell_type": "code",
   "execution_count": null,
   "metadata": {},
   "outputs": [],
   "source": [
    "%run ../lib/all.py"
   ]
  },
  {
   "cell_type": "code",
   "execution_count": null,
   "metadata": {},
   "outputs": [],
   "source": [
    "state = teststate.init_state(state)"
   ]
  },
  {
   "cell_type": "code",
   "execution_count": null,
   "metadata": {},
   "outputs": [],
   "source": [
    "k = k8s.KubernetesClient()\n",
    "k.version()"
   ]
  },
  {
   "cell_type": "code",
   "execution_count": null,
   "metadata": {},
   "outputs": [],
   "source": [
    "if not \"kubetest_version\" in state:\n",
    "    k8s_version = k.version().git_version\n",
    "    kubetest_version = k8s_version\n",
    "    teststate.update_state({\"kubetest_version\": kubetest_version})\n",
    "\n",
    "kubetest = e2e.download_kubetest(state[\"kubetest_version\"])"
   ]
  },
  {
   "cell_type": "code",
   "execution_count": null,
   "metadata": {},
   "outputs": [],
   "source": [
    "# a quick test for development: results = e2e.run(focus=\"Secrets should be consumable via the\")\n",
    "#results = e2e.run(\"\\[Conformance\\]\", skip=\"\\[Serial\\]\", parallel=25)\n",
    "opts = state.get(\"e2e\")\n",
    "results = kubetest.run(focus=opts.get(\"focus\"), skip=opts.get(\"skip\"), parallel=opts.get(\"parallel\"))\n",
    "results"
   ]
  },
  {
   "cell_type": "code",
   "execution_count": null,
   "metadata": {},
   "outputs": [],
   "source": [
    "tr = {\"test\": \"e2e\", \"options\": opts, \"pass\": len(results.failed_tests) == 0, \"tests\": []}\n",
    "tr[\"tests\"].extend(results.failed_tests)\n",
    "tr[\"tests\"].extend(results.passed_tests)\n",
    "teststate.append_state(\"status.results\", tr)\n",
    "tr"
   ]
  },
  {
   "cell_type": "code",
   "execution_count": null,
   "metadata": {},
   "outputs": [],
   "source": [
    "results.failed_tests"
   ]
  },
  {
   "cell_type": "code",
   "execution_count": null,
   "metadata": {},
   "outputs": [],
   "source": [
    "teststate.finished()"
   ]
  }
 ],
 "metadata": {
  "kernelspec": {
   "display_name": "Python 3",
   "language": "python",
   "name": "python3"
  },
  "language_info": {
   "codemirror_mode": {
    "name": "ipython",
    "version": 3
   },
   "file_extension": ".py",
   "mimetype": "text/x-python",
   "name": "python",
   "nbconvert_exporter": "python",
   "pygments_lexer": "ipython3",
   "version": "3.7.5"
  }
 },
 "nbformat": 4,
 "nbformat_minor": 2
}
