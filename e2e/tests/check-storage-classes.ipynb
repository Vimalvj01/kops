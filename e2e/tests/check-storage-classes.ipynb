{
 "cells": [
  {
   "cell_type": "code",
   "execution_count": null,
   "metadata": {},
   "outputs": [],
   "source": [
    "%run ../lib/k8s.py\n",
    "%run ../lib/state.py\n",
    "\n",
    "state = load_state()\n",
    "state"
   ]
  },
  {
   "cell_type": "code",
   "execution_count": null,
   "metadata": {},
   "outputs": [],
   "source": [
    "k = KubernetesClient()\n",
    "k.nodes()"
   ]
  },
  {
   "cell_type": "code",
   "execution_count": null,
   "metadata": {},
   "outputs": [],
   "source": [
    "k.storage_classes()"
   ]
  },
  {
   "cell_type": "code",
   "execution_count": null,
   "metadata": {},
   "outputs": [],
   "source": [
    "default_storage_classes = []\n",
    "for sc in k.storage_classes():\n",
    "    if sc.is_default_class():\n",
    "        default_storage_classes.append(sc)\n",
    "if len(default_storage_classes) == 0:\n",
    "    failure(state, \"expected a default storage class, did not find one\")\n",
    "elif len(default_storage_classes) > 1:\n",
    "    failure(state, \"expected a default storage class, found multiple\")\n",
    "else:\n",
    "    default_storage_class = default_storage_classes[0]\n",
    "    print(default_storage_class.obj)"
   ]
  },
  {
   "cell_type": "code",
   "execution_count": null,
   "metadata": {},
   "outputs": [],
   "source": [
    "k.storage_classes()"
   ]
  },
  {
   "cell_type": "code",
   "execution_count": null,
   "metadata": {},
   "outputs": [],
   "source": []
  }
 ],
 "metadata": {
  "kernelspec": {
   "display_name": "Python 3",
   "language": "python",
   "name": "python3"
  },
  "language_info": {
   "codemirror_mode": {
    "name": "ipython",
    "version": 3
   },
   "file_extension": ".py",
   "mimetype": "text/x-python",
   "name": "python",
   "nbconvert_exporter": "python",
   "pygments_lexer": "ipython3",
   "version": "3.7.5"
  }
 },
 "nbformat": 4,
 "nbformat_minor": 2
}
